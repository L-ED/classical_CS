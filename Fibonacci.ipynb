{
  "nbformat": 4,
  "nbformat_minor": 0,
  "metadata": {
    "colab": {
      "name": "Fibonacci.ipynb",
      "provenance": [],
      "authorship_tag": "ABX9TyObSR/ADkpDrdjm8+yKAncU",
      "include_colab_link": true
    },
    "kernelspec": {
      "name": "python3",
      "display_name": "Python 3"
    }
  },
  "cells": [
    {
      "cell_type": "markdown",
      "metadata": {
        "id": "view-in-github",
        "colab_type": "text"
      },
      "source": [
        "<a href=\"https://colab.research.google.com/github/nendem/classical_CS/blob/main/Fibonacci.ipynb\" target=\"_parent\"><img src=\"https://colab.research.google.com/assets/colab-badge.svg\" alt=\"Open In Colab\"/></a>"
      ]
    },
    {
      "cell_type": "code",
      "metadata": {
        "colab": {
          "base_uri": "https://localhost:8080/"
        },
        "id": "CYSj_52qUqnh",
        "outputId": "3400e93e-0359-46f6-faa3-017acac191e5"
      },
      "source": [
        "# Fibonacci sequense is a sequence of positive real numbers, where every element is sum of two previous elements: f(i) = f(i-1) + f(i-2)\n",
        "# function bellow finds value of element number n in Fibonacci sequence\n",
        "def fib(n): \n",
        "    if (n<2): # base case\n",
        "        return n\n",
        "    return fib(n-1) + fib(n-2) # recursive case\n",
        "\n",
        "if __name__ == \"__main__\": # some tests. Fibonacci sequence = [0, 1, 1, 2, 3, 5, 8, 13, 21, 34, 55]\n",
        "    print(fib(3))\n",
        "    print(fib(1))\n",
        "    print(fib(2))\n",
        "    print(fib(10))\n",
        "    "
      ],
      "execution_count": null,
      "outputs": [
        {
          "output_type": "stream",
          "text": [
            "2\n",
            "1\n",
            "1\n",
            "55\n"
          ],
          "name": "stdout"
        }
      ]
    },
    {
      "cell_type": "code",
      "metadata": {
        "colab": {
          "base_uri": "https://localhost:8080/"
        },
        "id": "W90n59URrT9Z",
        "outputId": "a1a4ed04-f83c-4e4f-aeea-6ffb8d5fc287"
      },
      "source": [
        "#iterative Fibonacci reduce operations\n",
        "def iter_fib(n):\n",
        "    last = 0\n",
        "    next = 1\n",
        "    for _ in range(1, n):\n",
        "        last, next = next, last + next\n",
        "    return next\n",
        "\n",
        "if __name__ == \"__main__\": # some tests. Fibonacci sequence = [0, 1, 1, 2, 3, 5, 8, 13, 21, 34, 55]\n",
        "    print(fib(3))\n",
        "    print(fib(1))\n",
        "    print(fib(2))\n",
        "    print(fib(10))"
      ],
      "execution_count": null,
      "outputs": [
        {
          "output_type": "stream",
          "text": [
            "2\n",
            "1\n",
            "1\n",
            "55\n"
          ],
          "name": "stdout"
        }
      ]
    },
    {
      "cell_type": "code",
      "metadata": {
        "colab": {
          "base_uri": "https://localhost:8080/"
        },
        "id": "45k_kkVpiUey",
        "outputId": "182e4f14-70cf-4a1d-91a8-c3c07e9f47f5"
      },
      "source": [
        "# Fibonacci with memorization accelerate programm workinking time by reducing recursive computarions storing elements in dictionary.\n",
        "# this method use computations only if element numder n doesn`t exist, in other cases programm returns existiong element\n",
        "memory = {0:0, 1:1}\n",
        "def fib_memo(n):\n",
        "    if n not in memory.keys():\n",
        "        memory[n] = fib_memo(n-1) + fib_memo(n-2)\n",
        "    return memory[n]\n",
        "\n",
        "if __name__ == \"__main__\": # some tests. Fibonacci sequence = [0, 1, 1, 2, 3, 5, 8, 13, 21, 34, 55]\n",
        "    print(fib_memo(3))\n",
        "    print(fib_memo(1))\n",
        "    print(fib_memo(2))\n",
        "    print(fib_memo(10))"
      ],
      "execution_count": null,
      "outputs": [
        {
          "output_type": "stream",
          "text": [
            "2\n",
            "1\n",
            "1\n",
            "55\n"
          ],
          "name": "stdout"
        }
      ]
    },
    {
      "cell_type": "code",
      "metadata": {
        "id": "pKj-Dv9urQuh"
      },
      "source": [
        ""
      ],
      "execution_count": null,
      "outputs": []
    }
  ]
}